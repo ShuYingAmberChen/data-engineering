{
 "cells": [
  {
   "cell_type": "markdown",
   "metadata": {},
   "source": [
    "# Lyft Bay Wheels Business Analysis (MIDS W205 Query Project)"
   ]
  },
  {
   "cell_type": "code",
   "execution_count": 61,
   "metadata": {},
   "outputs": [],
   "source": [
    "import pandas as pd\n",
    "import matplotlib.pyplot as plt\n",
    "import numpy as np"
   ]
  },
  {
   "cell_type": "markdown",
   "metadata": {},
   "source": [
    "## Purpose\n",
    "\n",
    "The purpose of the analysis is to discover an opportunity to increase ridership and to offer better deals to do so.\n",
    "The first question we will answer is what are the five most popular commuter trips, and then we will dive into the data a bit more from different angles to provide recommendations for offers.\n"
   ]
  },
  {
   "cell_type": "markdown",
   "metadata": {},
   "source": [
    "## Top 5 Popular Commuter Trips\n",
    "\n",
    "To answer the question, let's first define commuters. Commuters would have similar daily routine each day, so they would most likely subscribe the membership. Their trips would be one-way trips from home to office in the morning and from office to home in the afternoon. Therefore the start time and end time of the trip should be on the same date. Commuter trips can be more precisely defined by only considering trips that are made from 6am to 10am and from 4pm to 8pm. This time range filter would allow us to analyze patterns of only commuter trips by removing most of noises.\n",
    "The five most popular commuter trips are\n"
   ]
  },
  {
   "cell_type": "code",
   "execution_count": 62,
   "metadata": {},
   "outputs": [],
   "source": [
    "%%bigquery pop_commuter_trip_df\n",
    "\n",
    "SELECT start_station_name, end_station_name, COUNT(trip_id) as num_trips\n",
    "FROM (\n",
    "  SELECT \n",
    "    trip_id, \n",
    "    TIMESTAMP_SUB(start_date, interval 7 HOUR) AS start_date_pst, \n",
    "    TIMESTAMP_SUB(end_date, interval 7 HOUR) AS end_date_pst,\n",
    "    start_station_name,\n",
    "    end_station_name,\n",
    "    subscriber_type\n",
    "  FROM `bigquery-public-data.san_francisco.bikeshare_trips`)\n",
    "WHERE start_station_name <> end_station_name\n",
    "  AND subscriber_type = \"Subscriber\"\n",
    "  AND CAST(start_date_pst as date) = CAST(end_date_pst as date)\n",
    "  AND (\n",
    "    CAST(start_date_pst as time) >= \"06:00:00\" AND CAST(end_date_pst as time) < \"10:00:00\" \n",
    "    OR CAST(start_date_pst as time) >= \"16:00:00\" AND CAST(end_date_pst as time) < \"20:00:00\")\n",
    "GROUP BY start_station_name, end_station_name\n",
    "ORDER BY num_trips DESC\n",
    "LIMIT 5"
   ]
  },
  {
   "cell_type": "code",
   "execution_count": 63,
   "metadata": {},
   "outputs": [
    {
     "data": {
      "text/html": [
       "<div>\n",
       "<style scoped>\n",
       "    .dataframe tbody tr th:only-of-type {\n",
       "        vertical-align: middle;\n",
       "    }\n",
       "\n",
       "    .dataframe tbody tr th {\n",
       "        vertical-align: top;\n",
       "    }\n",
       "\n",
       "    .dataframe thead th {\n",
       "        text-align: right;\n",
       "    }\n",
       "</style>\n",
       "<table border=\"1\" class=\"dataframe\">\n",
       "  <thead>\n",
       "    <tr style=\"text-align: right;\">\n",
       "      <th></th>\n",
       "      <th>start_station_name</th>\n",
       "      <th>end_station_name</th>\n",
       "      <th>num_trips</th>\n",
       "    </tr>\n",
       "  </thead>\n",
       "  <tbody>\n",
       "    <tr>\n",
       "      <th>0</th>\n",
       "      <td>2nd at Townsend</td>\n",
       "      <td>Harry Bridges Plaza (Ferry Building)</td>\n",
       "      <td>2402</td>\n",
       "    </tr>\n",
       "    <tr>\n",
       "      <th>1</th>\n",
       "      <td>Embarcadero at Folsom</td>\n",
       "      <td>San Francisco Caltrain (Townsend at 4th)</td>\n",
       "      <td>2069</td>\n",
       "    </tr>\n",
       "    <tr>\n",
       "      <th>2</th>\n",
       "      <td>Temporary Transbay Terminal (Howard at Beale)</td>\n",
       "      <td>San Francisco Caltrain (Townsend at 4th)</td>\n",
       "      <td>1804</td>\n",
       "    </tr>\n",
       "    <tr>\n",
       "      <th>3</th>\n",
       "      <td>Embarcadero at Sansome</td>\n",
       "      <td>Steuart at Market</td>\n",
       "      <td>1671</td>\n",
       "    </tr>\n",
       "    <tr>\n",
       "      <th>4</th>\n",
       "      <td>Steuart at Market</td>\n",
       "      <td>San Francisco Caltrain (Townsend at 4th)</td>\n",
       "      <td>1561</td>\n",
       "    </tr>\n",
       "  </tbody>\n",
       "</table>\n",
       "</div>"
      ],
      "text/plain": [
       "                              start_station_name  \\\n",
       "0                                2nd at Townsend   \n",
       "1                          Embarcadero at Folsom   \n",
       "2  Temporary Transbay Terminal (Howard at Beale)   \n",
       "3                         Embarcadero at Sansome   \n",
       "4                              Steuart at Market   \n",
       "\n",
       "                           end_station_name  num_trips  \n",
       "0      Harry Bridges Plaza (Ferry Building)       2402  \n",
       "1  San Francisco Caltrain (Townsend at 4th)       2069  \n",
       "2  San Francisco Caltrain (Townsend at 4th)       1804  \n",
       "3                         Steuart at Market       1671  \n",
       "4  San Francisco Caltrain (Townsend at 4th)       1561  "
      ]
     },
     "execution_count": 63,
     "metadata": {},
     "output_type": "execute_result"
    }
   ],
   "source": [
    "pop_commuter_trip_df"
   ]
  },
  {
   "cell_type": "markdown",
   "metadata": {},
   "source": [
    "## Biker Characteristics Analysis\n",
    "\n",
    "To better serve our customers, we need to understand their characteristics. From the first two parts of the project, we know there are total 983,648 bike trips. When we break down the data by user type, we see that about 86% of users subscribe to either monthly or annual memberships, and only 14% of users make one-time purchase of either a single ride or an access pass.\n"
   ]
  },
  {
   "cell_type": "code",
   "execution_count": 64,
   "metadata": {},
   "outputs": [],
   "source": [
    "%%bigquery num_trips_type\n",
    "\n",
    "SELECT subscriber_type, COUNT(trip_id) as num_trips\n",
    "FROM `bigquery-public-data.san_francisco.bikeshare_trips`\n",
    "GROUP BY subscriber_type"
   ]
  },
  {
   "cell_type": "code",
   "execution_count": 65,
   "metadata": {},
   "outputs": [
    {
     "data": {
      "text/html": [
       "<div>\n",
       "<style scoped>\n",
       "    .dataframe tbody tr th:only-of-type {\n",
       "        vertical-align: middle;\n",
       "    }\n",
       "\n",
       "    .dataframe tbody tr th {\n",
       "        vertical-align: top;\n",
       "    }\n",
       "\n",
       "    .dataframe thead th {\n",
       "        text-align: right;\n",
       "    }\n",
       "</style>\n",
       "<table border=\"1\" class=\"dataframe\">\n",
       "  <thead>\n",
       "    <tr style=\"text-align: right;\">\n",
       "      <th></th>\n",
       "      <th>subscriber_type</th>\n",
       "      <th>num_trips</th>\n",
       "      <th>num_trips_pct</th>\n",
       "    </tr>\n",
       "  </thead>\n",
       "  <tbody>\n",
       "    <tr>\n",
       "      <th>0</th>\n",
       "      <td>Customer</td>\n",
       "      <td>136809</td>\n",
       "      <td>0.139083</td>\n",
       "    </tr>\n",
       "    <tr>\n",
       "      <th>1</th>\n",
       "      <td>Subscriber</td>\n",
       "      <td>846839</td>\n",
       "      <td>0.860917</td>\n",
       "    </tr>\n",
       "  </tbody>\n",
       "</table>\n",
       "</div>"
      ],
      "text/plain": [
       "  subscriber_type  num_trips  num_trips_pct\n",
       "0        Customer     136809       0.139083\n",
       "1      Subscriber     846839       0.860917"
      ]
     },
     "execution_count": 65,
     "metadata": {},
     "output_type": "execute_result"
    }
   ],
   "source": [
    "sum_trips = num_trips_type['num_trips'].sum()\n",
    "num_trips_type['num_trips_pct'] = num_trips_type['num_trips']/sum_trips\n",
    "num_trips_type"
   ]
  },
  {
   "cell_type": "markdown",
   "metadata": {},
   "source": [
    "The biking behaviours of the two groups of users are quite different. The left chart below showed that a significant amount of customers still bike more than 30 minutes even though they get charged $3 per additional 15 minutes. The right chart demonstrated almost all subscribers bike 45 minutes or shorter so that they don't get charged overtime."
   ]
  },
  {
   "cell_type": "code",
   "execution_count": 66,
   "metadata": {},
   "outputs": [],
   "source": [
    "%%bigquery customer_dur_hist\n",
    "\n",
    "SELECT FLOOR(duration_sec/60) AS bucket, \n",
    "       COUNT(duration_sec/60) AS freq\n",
    "FROM `bigquery-public-data.san_francisco.bikeshare_trips`\n",
    "WHERE subscriber_type = \"Customer\"\n",
    "GROUP BY bucket \n",
    "ORDER BY bucket\n",
    "LIMIT 300"
   ]
  },
  {
   "cell_type": "code",
   "execution_count": 67,
   "metadata": {},
   "outputs": [],
   "source": [
    "%%bigquery subscriber_dur_hist\n",
    "\n",
    "SELECT FLOOR(duration_sec/60) AS bucket, \n",
    "       COUNT(duration_sec/60) AS freq\n",
    "FROM `bigquery-public-data.san_francisco.bikeshare_trips`\n",
    "WHERE subscriber_type = \"Subscriber\"\n",
    "GROUP BY bucket \n",
    "ORDER BY bucket \n",
    "LIMIT 300"
   ]
  },
  {
   "cell_type": "code",
   "execution_count": 68,
   "metadata": {},
   "outputs": [
    {
     "data": {
      "image/png": "[encoded data removed]",
      "text/plain": [
       "<Figure size 1440x720 with 2 Axes>"
      ]
     },
     "metadata": {
      "needs_background": "light"
     },
     "output_type": "display_data"
    }
   ],
   "source": [
    "plt.figure(figsize=(20,10))\n",
    "ax = plt.subplot(121)\n",
    "ax.bar(customer_dur_hist['bucket'], customer_dur_hist['freq'], color='b', align='center')\n",
    "plt.title(\"Duration of Customer Trips Histogram\")\n",
    "\n",
    "\n",
    "ax = plt.subplot(122)\n",
    "ax.bar(subscriber_dur_hist['bucket'], subscriber_dur_hist['freq'], color='g', align='center')\n",
    "plt.title(\"Duration of Subscriber Trips Histogram\")\n",
    "\n",
    "plt.show()"
   ]
  },
  {
   "cell_type": "markdown",
   "metadata": {},
   "source": [
    "We further quantified the biking behaviours of the two groups by finding the average and 90th percentile of trip duration and the percentile of the maximum duration which base price offers for each type of users. Below analysis shows that the he average duration of a subscriber trip is about 10 minutes whereas the average duration of a customer trip is about 61 minutes. 90% of customer trips are 99 minutes or shorter each ride, and only 72.5% is 30 minutes or shorter. 27.5% of customers have to pay $3 per additional 15 minutes. On the other hand, 90% of subscriber trips are 14 minutes or shorter, and 99% of subscriber trips do not exceed 45 minutes, which is the cut-off time for membership base price."
   ]
  },
  {
   "cell_type": "code",
   "execution_count": 78,
   "metadata": {},
   "outputs": [],
   "source": [
    "%%bigquery subscriber_avg_dur\n",
    "\n",
    "SELECT AVG(duration_sec/60) \n",
    "FROM `bigquery-public-data.san_francisco.bikeshare_trips`\n",
    "WHERE subscriber_type = \"Subscriber\""
   ]
  },
  {
   "cell_type": "code",
   "execution_count": 79,
   "metadata": {},
   "outputs": [
    {
     "data": {
      "text/html": [
       "<div>\n",
       "<style scoped>\n",
       "    .dataframe tbody tr th:only-of-type {\n",
       "        vertical-align: middle;\n",
       "    }\n",
       "\n",
       "    .dataframe tbody tr th {\n",
       "        vertical-align: top;\n",
       "    }\n",
       "\n",
       "    .dataframe thead th {\n",
       "        text-align: right;\n",
       "    }\n",
       "</style>\n",
       "<table border=\"1\" class=\"dataframe\">\n",
       "  <thead>\n",
       "    <tr style=\"text-align: right;\">\n",
       "      <th></th>\n",
       "      <th>f0_</th>\n",
       "    </tr>\n",
       "  </thead>\n",
       "  <tbody>\n",
       "    <tr>\n",
       "      <th>0</th>\n",
       "      <td>9.712737</td>\n",
       "    </tr>\n",
       "  </tbody>\n",
       "</table>\n",
       "</div>"
      ],
      "text/plain": [
       "        f0_\n",
       "0  9.712737"
      ]
     },
     "execution_count": 79,
     "metadata": {},
     "output_type": "execute_result"
    }
   ],
   "source": [
    "subscriber_avg_dur"
   ]
  },
  {
   "cell_type": "code",
   "execution_count": 80,
   "metadata": {},
   "outputs": [],
   "source": [
    "%%bigquery customer_avg_dur\n",
    "\n",
    "SELECT AVG(duration_sec/60) \n",
    "FROM `bigquery-public-data.san_francisco.bikeshare_trips`\n",
    "WHERE subscriber_type = \"Customer\""
   ]
  },
  {
   "cell_type": "code",
   "execution_count": 81,
   "metadata": {},
   "outputs": [
    {
     "data": {
      "text/html": [
       "<div>\n",
       "<style scoped>\n",
       "    .dataframe tbody tr th:only-of-type {\n",
       "        vertical-align: middle;\n",
       "    }\n",
       "\n",
       "    .dataframe tbody tr th {\n",
       "        vertical-align: top;\n",
       "    }\n",
       "\n",
       "    .dataframe thead th {\n",
       "        text-align: right;\n",
       "    }\n",
       "</style>\n",
       "<table border=\"1\" class=\"dataframe\">\n",
       "  <thead>\n",
       "    <tr style=\"text-align: right;\">\n",
       "      <th></th>\n",
       "      <th>f0_</th>\n",
       "    </tr>\n",
       "  </thead>\n",
       "  <tbody>\n",
       "    <tr>\n",
       "      <th>0</th>\n",
       "      <td>61.979753</td>\n",
       "    </tr>\n",
       "  </tbody>\n",
       "</table>\n",
       "</div>"
      ],
      "text/plain": [
       "         f0_\n",
       "0  61.979753"
      ]
     },
     "execution_count": 81,
     "metadata": {},
     "output_type": "execute_result"
    }
   ],
   "source": [
    "customer_avg_dur"
   ]
  },
  {
   "cell_type": "code",
   "execution_count": 69,
   "metadata": {},
   "outputs": [],
   "source": [
    "sum_customer_trips = customer_dur_hist['freq'].sum()\n",
    "customer_dur_hist['cumsum_pct'] = customer_dur_hist['freq'].cumsum()/sum_customer_trips\n",
    "sum_subscriber_trips = subscriber_dur_hist['freq'].sum()\n",
    "subscriber_dur_hist['cumsum_pct'] = subscriber_dur_hist['freq'].cumsum()/sum_subscriber_trips"
   ]
  },
  {
   "cell_type": "code",
   "execution_count": 70,
   "metadata": {},
   "outputs": [
    {
     "data": {
      "text/html": [
       "<div>\n",
       "<style scoped>\n",
       "    .dataframe tbody tr th:only-of-type {\n",
       "        vertical-align: middle;\n",
       "    }\n",
       "\n",
       "    .dataframe tbody tr th {\n",
       "        vertical-align: top;\n",
       "    }\n",
       "\n",
       "    .dataframe thead th {\n",
       "        text-align: right;\n",
       "    }\n",
       "</style>\n",
       "<table border=\"1\" class=\"dataframe\">\n",
       "  <thead>\n",
       "    <tr style=\"text-align: right;\">\n",
       "      <th></th>\n",
       "      <th>bucket</th>\n",
       "      <th>freq</th>\n",
       "      <th>cumsum_pct</th>\n",
       "    </tr>\n",
       "  </thead>\n",
       "  <tbody>\n",
       "    <tr>\n",
       "      <th>29</th>\n",
       "      <td>30.0</td>\n",
       "      <td>1243</td>\n",
       "      <td>0.724975</td>\n",
       "    </tr>\n",
       "    <tr>\n",
       "      <th>44</th>\n",
       "      <td>45.0</td>\n",
       "      <td>413</td>\n",
       "      <td>0.798144</td>\n",
       "    </tr>\n",
       "    <tr>\n",
       "      <th>98</th>\n",
       "      <td>99.0</td>\n",
       "      <td>145</td>\n",
       "      <td>0.899718</td>\n",
       "    </tr>\n",
       "  </tbody>\n",
       "</table>\n",
       "</div>"
      ],
      "text/plain": [
       "    bucket  freq  cumsum_pct\n",
       "29    30.0  1243    0.724975\n",
       "44    45.0   413    0.798144\n",
       "98    99.0   145    0.899718"
      ]
     },
     "execution_count": 70,
     "metadata": {},
     "output_type": "execute_result"
    }
   ],
   "source": [
    "idx_cus_90 = (np.abs(customer_dur_hist['cumsum_pct'] - 0.9)).argmin()\n",
    "idx_30min = customer_dur_hist.index[customer_dur_hist['bucket']==30].tolist()[0]\n",
    "idx_45min = customer_dur_hist.index[customer_dur_hist['bucket']==45].tolist()[0]\n",
    "customer_dur_hist.loc[[idx_30min, idx_45min, idx_cus_90], :]"
   ]
  },
  {
   "cell_type": "code",
   "execution_count": 71,
   "metadata": {},
   "outputs": [
    {
     "data": {
      "text/html": [
       "<div>\n",
       "<style scoped>\n",
       "    .dataframe tbody tr th:only-of-type {\n",
       "        vertical-align: middle;\n",
       "    }\n",
       "\n",
       "    .dataframe tbody tr th {\n",
       "        vertical-align: top;\n",
       "    }\n",
       "\n",
       "    .dataframe thead th {\n",
       "        text-align: right;\n",
       "    }\n",
       "</style>\n",
       "<table border=\"1\" class=\"dataframe\">\n",
       "  <thead>\n",
       "    <tr style=\"text-align: right;\">\n",
       "      <th></th>\n",
       "      <th>bucket</th>\n",
       "      <th>freq</th>\n",
       "      <th>cumsum_pct</th>\n",
       "    </tr>\n",
       "  </thead>\n",
       "  <tbody>\n",
       "    <tr>\n",
       "      <th>44</th>\n",
       "      <td>45.0</td>\n",
       "      <td>59</td>\n",
       "      <td>0.997415</td>\n",
       "    </tr>\n",
       "    <tr>\n",
       "      <th>13</th>\n",
       "      <td>14.0</td>\n",
       "      <td>24838</td>\n",
       "      <td>0.912669</td>\n",
       "    </tr>\n",
       "  </tbody>\n",
       "</table>\n",
       "</div>"
      ],
      "text/plain": [
       "    bucket   freq  cumsum_pct\n",
       "44    45.0     59    0.997415\n",
       "13    14.0  24838    0.912669"
      ]
     },
     "execution_count": 71,
     "metadata": {},
     "output_type": "execute_result"
    }
   ],
   "source": [
    "idx_sub_90 = (np.abs(subscriber_dur_hist['cumsum_pct'] - 0.9)).argmin()\n",
    "idx_45min = subscriber_dur_hist.index[subscriber_dur_hist['bucket']==45].tolist()[0]\n",
    "subscriber_dur_hist.loc[[idx_45min,idx_sub_90], :]"
   ]
  },
  {
   "cell_type": "markdown",
   "metadata": {},
   "source": [
    "On the geographic perspective, we conducted analysis on popularity vs. number of docks for all stations. The popularity is quantified by the number of trips that started or ended at a particular station. We discovered that all stations in the top 5 popular commuter trips are included in the top 10 popular stations. As below charts show, they do not neccesarily have more docks than the least popular stations for users to park bikes despite their popularity. Therefore, we could see that during rush hour commuters may not find bikes to ride at these station and they would look for alternative ways to commute."
   ]
  },
  {
   "cell_type": "code",
   "execution_count": 72,
   "metadata": {},
   "outputs": [],
   "source": [
    "%%bigquery top10station_df\n",
    "\n",
    "SELECT name, dockcount, (end_trips.num_trips + start_trips.num_trips) as total_trips\n",
    "FROM `bigquery-public-data.san_francisco.bikeshare_stations` as station_info\n",
    "LEFT JOIN (\n",
    "  SELECT end_station_name, COUNT(trip_id) as num_trips\n",
    "  FROM `bigquery-public-data.san_francisco.bikeshare_trips`\n",
    "  GROUP BY end_station_name) as end_trips\n",
    "ON end_trips.end_station_name = station_info.name\n",
    "LEFT JOIN (\n",
    "  SELECT start_station_name, COUNT(trip_id) as num_trips\n",
    "  FROM `bigquery-public-data.san_francisco.bikeshare_trips`\n",
    "  WHERE  start_station_name <> end_station_name\n",
    "  GROUP BY start_station_name) as start_trips\n",
    "ON start_trips.start_station_name = station_info.name\n",
    "ORDER BY total_trips DESC\n",
    "LIMIT 10"
   ]
  },
  {
   "cell_type": "code",
   "execution_count": 73,
   "metadata": {},
   "outputs": [],
   "source": [
    "%%bigquery bottom10station_df\n",
    "\n",
    "SELECT name, dockcount, (end_trips.num_trips + start_trips.num_trips) as total_trips\n",
    "FROM `bigquery-public-data.san_francisco.bikeshare_stations` as station_info\n",
    "LEFT JOIN (\n",
    "  SELECT end_station_name, COUNT(trip_id) as num_trips\n",
    "  FROM `bigquery-public-data.san_francisco.bikeshare_trips`\n",
    "  GROUP BY end_station_name) as end_trips\n",
    "ON end_trips.end_station_name = station_info.name\n",
    "LEFT JOIN (\n",
    "  SELECT start_station_name, COUNT(trip_id) as num_trips\n",
    "  FROM `bigquery-public-data.san_francisco.bikeshare_trips`\n",
    "  WHERE  start_station_name <> end_station_name\n",
    "  GROUP BY start_station_name) as start_trips\n",
    "ON start_trips.start_station_name = station_info.name\n",
    "ORDER BY total_trips\n",
    "LIMIT 10"
   ]
  },
  {
   "cell_type": "code",
   "execution_count": 74,
   "metadata": {},
   "outputs": [
    {
     "data": {
      "image/png": "[encoded data removed]",
      "text/plain": [
       "<Figure size 1440x720 with 2 Axes>"
      ]
     },
     "metadata": {
      "needs_background": "light"
     },
     "output_type": "display_data"
    }
   ],
   "source": [
    "plt.figure(figsize=(20,10))\n",
    "ax = plt.subplot(121)\n",
    "ax.bar(top10station_df['name'], top10station_df['total_trips'], color='b', align='center')\n",
    "plt.xticks(rotation=90)\n",
    "plt.title(\"Top 10 popular stations vs Number of Trips\")\n",
    "\n",
    "ax = plt.subplot(122)\n",
    "ax.bar(top10station_df['name'], top10station_df['dockcount'], color='g', align='center')\n",
    "plt.xticks(rotation=90)\n",
    "plt.title(\"Top 10 popular stations vs Number of Docks\")\n",
    "\n",
    "plt.show()"
   ]
  },
  {
   "cell_type": "markdown",
   "metadata": {},
   "source": [
    "We also noticed the 2 least popular stations have 19 docks but never had anyone to bike from and to the stations. The third station listed on the chart, Cyril Magnin St at Ellis St, has the most number of docks out of all stations in Bay Area while the station is only involved in 127 trips."
   ]
  },
  {
   "cell_type": "code",
   "execution_count": 75,
   "metadata": {},
   "outputs": [
    {
     "data": {
      "image/png": "[encoded data removed]",
      "text/plain": [
       "<Figure size 1440x720 with 2 Axes>"
      ]
     },
     "metadata": {
      "needs_background": "light"
     },
     "output_type": "display_data"
    }
   ],
   "source": [
    "bottom10station_df['total_trips'].fillna(0, inplace = True)\n",
    "plt.figure(figsize=(20,10))\n",
    "ax = plt.subplot(121)\n",
    "ax.bar(bottom10station_df['name'], bottom10station_df['total_trips'], color='b', align='center')\n",
    "plt.xticks(rotation=90)\n",
    "plt.title(\"The 10 least popular stations vs Number of Trips\")\n",
    "\n",
    "ax = plt.subplot(122)\n",
    "ax.bar(bottom10station_df['name'], bottom10station_df['dockcount'], color='g', align='center')\n",
    "plt.xticks(rotation=90)\n",
    "plt.title(\"The 10 least popular stations vs Number of Docks\")\n",
    "\n",
    "plt.show()"
   ]
  },
  {
   "cell_type": "markdown",
   "metadata": {},
   "source": [
    "Although customer trips made from one-time purchase only are only 14% of all trips, it is also important to look at what stations that these trips are mostly involved in. As below table shows, most of the stations in the top 5 customer trips are on the list of top 10 popular stations. This observation shows that during rush hour commuters likely compete with not only other commuters but also travelers to get bikes at these popular stations. These stations are not able to provide enough bikes even we assume all docks are filled before rush hour. "
   ]
  },
  {
   "cell_type": "code",
   "execution_count": 76,
   "metadata": {},
   "outputs": [],
   "source": [
    "%%bigquery pop_customer_trip_df\n",
    "\n",
    "SELECT start_station_name, end_station_name, COUNT(trip_id) as num_trips\n",
    "FROM (\n",
    "  SELECT \n",
    "    trip_id, \n",
    "    TIMESTAMP_SUB(start_date, interval 7 HOUR) AS start_date_pst, \n",
    "    TIMESTAMP_SUB(end_date, interval 7 HOUR) AS end_date_pst,\n",
    "    start_station_name,\n",
    "    end_station_name,\n",
    "    subscriber_type\n",
    "  FROM `bigquery-public-data.san_francisco.bikeshare_trips`)\n",
    "WHERE subscriber_type = \"Customer\"\n",
    "  AND CAST(start_date_pst as date) = CAST(end_date_pst as date)\n",
    "  AND (\n",
    "    CAST(start_date_pst as time) >= \"06:00:00\" AND CAST(end_date_pst as time) < \"10:00:00\" \n",
    "    OR CAST(start_date_pst as time) >= \"16:00:00\" AND CAST(end_date_pst as time) < \"20:00:00\")\n",
    "GROUP BY start_station_name, end_station_name\n",
    "ORDER BY num_trips DESC\n",
    "LIMIT 5"
   ]
  },
  {
   "cell_type": "code",
   "execution_count": 77,
   "metadata": {},
   "outputs": [
    {
     "data": {
      "text/html": [
       "<div>\n",
       "<style scoped>\n",
       "    .dataframe tbody tr th:only-of-type {\n",
       "        vertical-align: middle;\n",
       "    }\n",
       "\n",
       "    .dataframe tbody tr th {\n",
       "        vertical-align: top;\n",
       "    }\n",
       "\n",
       "    .dataframe thead th {\n",
       "        text-align: right;\n",
       "    }\n",
       "</style>\n",
       "<table border=\"1\" class=\"dataframe\">\n",
       "  <thead>\n",
       "    <tr style=\"text-align: right;\">\n",
       "      <th></th>\n",
       "      <th>start_station_name</th>\n",
       "      <th>end_station_name</th>\n",
       "      <th>num_trips</th>\n",
       "    </tr>\n",
       "  </thead>\n",
       "  <tbody>\n",
       "    <tr>\n",
       "      <th>0</th>\n",
       "      <td>Harry Bridges Plaza (Ferry Building)</td>\n",
       "      <td>Embarcadero at Sansome</td>\n",
       "      <td>1369</td>\n",
       "    </tr>\n",
       "    <tr>\n",
       "      <th>1</th>\n",
       "      <td>Embarcadero at Sansome</td>\n",
       "      <td>Embarcadero at Sansome</td>\n",
       "      <td>906</td>\n",
       "    </tr>\n",
       "    <tr>\n",
       "      <th>2</th>\n",
       "      <td>Embarcadero at Sansome</td>\n",
       "      <td>Harry Bridges Plaza (Ferry Building)</td>\n",
       "      <td>720</td>\n",
       "    </tr>\n",
       "    <tr>\n",
       "      <th>3</th>\n",
       "      <td>Harry Bridges Plaza (Ferry Building)</td>\n",
       "      <td>Harry Bridges Plaza (Ferry Building)</td>\n",
       "      <td>538</td>\n",
       "    </tr>\n",
       "    <tr>\n",
       "      <th>4</th>\n",
       "      <td>Embarcadero at Vallejo</td>\n",
       "      <td>Embarcadero at Sansome</td>\n",
       "      <td>511</td>\n",
       "    </tr>\n",
       "  </tbody>\n",
       "</table>\n",
       "</div>"
      ],
      "text/plain": [
       "                     start_station_name                      end_station_name  \\\n",
       "0  Harry Bridges Plaza (Ferry Building)                Embarcadero at Sansome   \n",
       "1                Embarcadero at Sansome                Embarcadero at Sansome   \n",
       "2                Embarcadero at Sansome  Harry Bridges Plaza (Ferry Building)   \n",
       "3  Harry Bridges Plaza (Ferry Building)  Harry Bridges Plaza (Ferry Building)   \n",
       "4                Embarcadero at Vallejo                Embarcadero at Sansome   \n",
       "\n",
       "   num_trips  \n",
       "0       1369  \n",
       "1        906  \n",
       "2        720  \n",
       "3        538  \n",
       "4        511  "
      ]
     },
     "execution_count": 77,
     "metadata": {},
     "output_type": "execute_result"
    }
   ],
   "source": [
    "pop_customer_trip_df"
   ]
  },
  {
   "cell_type": "markdown",
   "metadata": {},
   "source": [
    "## Pricing Recommendations\n",
    "\n",
    "From the above analysis, it is clear that the current pricing strategy does not line up with our customers' needs. One-time customers who bought Single Ride or Access Pass want to take bikes out for long trips, but our pricing limit their per-trip allocation to 30 minutes. On the other hand, most subscribers takes bikes out for less than 15 minutes, but we offer them 45 minute allowance, which is not needed. Subscribers take bikes out for 10 minutes or less on average to get around the city. In addition, the distribution of docks to each station are not in sync with the station popularity. Based on our above findings, we would like to recommend the following offer strategies to the management team:\n",
    "\n",
    "1. Increase the time limit from 30 minutes to 45 minutes for Single Ride and Access Pass customers. We can raise the base price from $2 to $3 and lower the extra charge to $2 per additional 15 minutes. This may negatively impact customers' willing to ride if they know they would definitely take bikes out for less than 30 minutes. However, customers who make one-time purchase are usually not sensitive to the price as they are often visitors or travelers. By increasing to time limit to 45 minutes, we could better serve 80% of one-time customers.\n",
    "\n",
    "2. We can add a notification feature on the mobile app to notify one-time customers that their bike time is approaching 45 minutes and the nearest stations where they can park the bikes. This would help the turnover ratios of bikes and help more commuters to get bikes during rush hour.\n",
    "\n",
    "3. For customers who subscribe to monthly or annual memberships but usually bike less than 10 minutes each trip, we could sometimes offer them coupons which they can use in the future when renewing membership or getting a ride on Lyft.\n",
    "\n",
    "4. We should consider reduce the number of docks at the 10 least popular stations and increase docks at the top 10 popular stations. This would help increase more bikes available at the popular stations before rush hour. \n",
    "\n",
    "5. We can offer one-time purchasers coupons if they park the bikes at the popular stations and send them notifications immediately after they made the payment to let them know this offering. This recommendation, together with the one above, would increase the commuters' experience on Lyft Bay Wheels as they have a higher chance to get bikes at the popular stations. The better user experience will bring more people to subscribe to memberships, and ultimately increase membership sales revenue.\n"
   ]
  },
  {
   "cell_type": "code",
   "execution_count": null,
   "metadata": {},
   "outputs": [],
   "source": []
  }
 ],
 "metadata": {
  "environment": {
   "name": "tf2-gpu.2-1.m46",
   "type": "gcloud",
   "uri": "gcr.io/deeplearning-platform-release/tf2-gpu.2-1:m46"
  },
  "kernelspec": {
   "display_name": "Python 3",
   "language": "python",
   "name": "python3"
  },
  "language_info": {
   "codemirror_mode": {
    "name": "ipython",
    "version": 3
   },
   "file_extension": ".py",
   "mimetype": "text/x-python",
   "name": "python",
   "nbconvert_exporter": "python",
   "pygments_lexer": "ipython3",
   "version": "3.7.6"
  }
 },
 "nbformat": 4,
 "nbformat_minor": 4
}
